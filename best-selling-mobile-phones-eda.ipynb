{
 "cells": [
  {
   "cell_type": "markdown",
   "id": "0245695e",
   "metadata": {
    "papermill": {
     "duration": 0.01415,
     "end_time": "2023-09-08T07:10:15.291198",
     "exception": false,
     "start_time": "2023-09-08T07:10:15.277048",
     "status": "completed"
    },
    "tags": []
   },
   "source": [
    "# Best Selling Mobile Phones  | Exploratory Data Analysis"
   ]
  },
  {
   "cell_type": "code",
   "execution_count": 1,
   "id": "f6745c2e",
   "metadata": {
    "_cell_guid": "b1076dfc-b9ad-4769-8c92-a6c4dae69d19",
    "_uuid": "8f2839f25d086af736a60e9eeb907d3b93b6e0e5",
    "execution": {
     "iopub.execute_input": "2023-09-08T07:10:15.320668Z",
     "iopub.status.busy": "2023-09-08T07:10:15.319494Z",
     "iopub.status.idle": "2023-09-08T07:10:16.388801Z",
     "shell.execute_reply": "2023-09-08T07:10:16.387253Z"
    },
    "papermill": {
     "duration": 1.086109,
     "end_time": "2023-09-08T07:10:16.390787",
     "exception": false,
     "start_time": "2023-09-08T07:10:15.304678",
     "status": "completed"
    },
    "tags": []
   },
   "outputs": [
    {
     "name": "stdout",
     "output_type": "stream",
     "text": [
      "/kaggle/input/best-selling-mobile-phones/best-selling-mobile-phones.csv\n",
      "/kaggle/input/best-selling-mobile-phones/total-phone-devices-by-company-2021.csv\n",
      "/kaggle/input/best-selling-mobile-phones/mobile-phone-brands-by-country.csv\n",
      "/kaggle/input/best-selling-mobile-phones/Best Selling Mobile Phones 2020.csv\n"
     ]
    }
   ],
   "source": [
    "import numpy as np # linear algebra\n",
    "import pandas as pd # data processing, CSV file I/O (e.g. pd.read_csv)\n",
    "import seaborn as sns\n",
    "import matplotlib.pyplot as plt\n",
    "\n",
    "import os\n",
    "for dirname, _, filenames in os.walk('/kaggle/input'):\n",
    "    for filename in filenames:\n",
    "        print(os.path.join(dirname, filename))"
   ]
  },
  {
   "cell_type": "markdown",
   "id": "82943c81",
   "metadata": {
    "papermill": {
     "duration": 0.0128,
     "end_time": "2023-09-08T07:10:16.417137",
     "exception": false,
     "start_time": "2023-09-08T07:10:16.404337",
     "status": "completed"
    },
    "tags": []
   },
   "source": [
    "# 1. Importing and Loading the data"
   ]
  },
  {
   "cell_type": "code",
   "execution_count": 2,
   "id": "ec23fa3d",
   "metadata": {
    "execution": {
     "iopub.execute_input": "2023-09-08T07:10:16.445137Z",
     "iopub.status.busy": "2023-09-08T07:10:16.444897Z",
     "iopub.status.idle": "2023-09-08T07:10:16.457066Z",
     "shell.execute_reply": "2023-09-08T07:10:16.456255Z"
    },
    "papermill": {
     "duration": 0.028222,
     "end_time": "2023-09-08T07:10:16.458824",
     "exception": false,
     "start_time": "2023-09-08T07:10:16.430602",
     "status": "completed"
    },
    "tags": []
   },
   "outputs": [],
   "source": [
    "df = pd.read_csv('/kaggle/input/best-selling-mobile-phones/best-selling-mobile-phones.csv')"
   ]
  },
  {
   "cell_type": "code",
   "execution_count": 3,
   "id": "0095ee23",
   "metadata": {
    "execution": {
     "iopub.execute_input": "2023-09-08T07:10:16.486242Z",
     "iopub.status.busy": "2023-09-08T07:10:16.485959Z",
     "iopub.status.idle": "2023-09-08T07:10:16.507564Z",
     "shell.execute_reply": "2023-09-08T07:10:16.506553Z"
    },
    "papermill": {
     "duration": 0.037588,
     "end_time": "2023-09-08T07:10:16.509482",
     "exception": false,
     "start_time": "2023-09-08T07:10:16.471894",
     "status": "completed"
    },
    "tags": []
   },
   "outputs": [
    {
     "data": {
      "text/html": [
       "<div>\n",
       "<style scoped>\n",
       "    .dataframe tbody tr th:only-of-type {\n",
       "        vertical-align: middle;\n",
       "    }\n",
       "\n",
       "    .dataframe tbody tr th {\n",
       "        vertical-align: top;\n",
       "    }\n",
       "\n",
       "    .dataframe thead th {\n",
       "        text-align: right;\n",
       "    }\n",
       "</style>\n",
       "<table border=\"1\" class=\"dataframe\">\n",
       "  <thead>\n",
       "    <tr style=\"text-align: right;\">\n",
       "      <th></th>\n",
       "      <th>manufacturer</th>\n",
       "      <th>model</th>\n",
       "      <th>form</th>\n",
       "      <th>smartphone</th>\n",
       "      <th>year</th>\n",
       "      <th>units_sold_m</th>\n",
       "    </tr>\n",
       "  </thead>\n",
       "  <tbody>\n",
       "    <tr>\n",
       "      <th>0</th>\n",
       "      <td>Nokia</td>\n",
       "      <td>1100</td>\n",
       "      <td>Bar</td>\n",
       "      <td>No</td>\n",
       "      <td>2003</td>\n",
       "      <td>250.0</td>\n",
       "    </tr>\n",
       "    <tr>\n",
       "      <th>1</th>\n",
       "      <td>Nokia</td>\n",
       "      <td>1110</td>\n",
       "      <td>Bar</td>\n",
       "      <td>No</td>\n",
       "      <td>2005</td>\n",
       "      <td>247.5</td>\n",
       "    </tr>\n",
       "    <tr>\n",
       "      <th>2</th>\n",
       "      <td>Apple</td>\n",
       "      <td>iPhone 6 and iPhone 6 Plus</td>\n",
       "      <td>Touchscreen</td>\n",
       "      <td>Yes</td>\n",
       "      <td>2014</td>\n",
       "      <td>224.0</td>\n",
       "    </tr>\n",
       "    <tr>\n",
       "      <th>3</th>\n",
       "      <td>Nokia</td>\n",
       "      <td>105 (2013), 105 (2015)</td>\n",
       "      <td>Bar</td>\n",
       "      <td>No</td>\n",
       "      <td>2013</td>\n",
       "      <td>200.0</td>\n",
       "    </tr>\n",
       "    <tr>\n",
       "      <th>4</th>\n",
       "      <td>Apple</td>\n",
       "      <td>iPhone 6S and iPhone 6S Plus</td>\n",
       "      <td>Touchscreen</td>\n",
       "      <td>Yes</td>\n",
       "      <td>2015</td>\n",
       "      <td>174.1</td>\n",
       "    </tr>\n",
       "  </tbody>\n",
       "</table>\n",
       "</div>"
      ],
      "text/plain": [
       "  manufacturer                         model         form smartphone  year  \\\n",
       "0        Nokia                          1100          Bar         No  2003   \n",
       "1        Nokia                          1110          Bar         No  2005   \n",
       "2        Apple    iPhone 6 and iPhone 6 Plus  Touchscreen        Yes  2014   \n",
       "3        Nokia        105 (2013), 105 (2015)          Bar         No  2013   \n",
       "4        Apple  iPhone 6S and iPhone 6S Plus  Touchscreen        Yes  2015   \n",
       "\n",
       "   units_sold_m  \n",
       "0         250.0  \n",
       "1         247.5  \n",
       "2         224.0  \n",
       "3         200.0  \n",
       "4         174.1  "
      ]
     },
     "execution_count": 3,
     "metadata": {},
     "output_type": "execute_result"
    }
   ],
   "source": [
    "df.head()"
   ]
  },
  {
   "cell_type": "code",
   "execution_count": 4,
   "id": "733e3950",
   "metadata": {
    "execution": {
     "iopub.execute_input": "2023-09-08T07:10:16.539287Z",
     "iopub.status.busy": "2023-09-08T07:10:16.539019Z",
     "iopub.status.idle": "2023-09-08T07:10:16.550850Z",
     "shell.execute_reply": "2023-09-08T07:10:16.549997Z"
    },
    "papermill": {
     "duration": 0.029033,
     "end_time": "2023-09-08T07:10:16.552528",
     "exception": false,
     "start_time": "2023-09-08T07:10:16.523495",
     "status": "completed"
    },
    "tags": []
   },
   "outputs": [
    {
     "data": {
      "text/html": [
       "<div>\n",
       "<style scoped>\n",
       "    .dataframe tbody tr th:only-of-type {\n",
       "        vertical-align: middle;\n",
       "    }\n",
       "\n",
       "    .dataframe tbody tr th {\n",
       "        vertical-align: top;\n",
       "    }\n",
       "\n",
       "    .dataframe thead th {\n",
       "        text-align: right;\n",
       "    }\n",
       "</style>\n",
       "<table border=\"1\" class=\"dataframe\">\n",
       "  <thead>\n",
       "    <tr style=\"text-align: right;\">\n",
       "      <th></th>\n",
       "      <th>manufacturer</th>\n",
       "      <th>model</th>\n",
       "      <th>form</th>\n",
       "      <th>smartphone</th>\n",
       "      <th>year</th>\n",
       "      <th>units_sold_m</th>\n",
       "    </tr>\n",
       "  </thead>\n",
       "  <tbody>\n",
       "    <tr>\n",
       "      <th>106</th>\n",
       "      <td>LG</td>\n",
       "      <td>G2</td>\n",
       "      <td>Touchscreen</td>\n",
       "      <td>Yes</td>\n",
       "      <td>2013</td>\n",
       "      <td>3.0</td>\n",
       "    </tr>\n",
       "    <tr>\n",
       "      <th>107</th>\n",
       "      <td>LeTV</td>\n",
       "      <td>LeEco Le 1s</td>\n",
       "      <td>Touchscreen</td>\n",
       "      <td>Yes</td>\n",
       "      <td>2016</td>\n",
       "      <td>3.0</td>\n",
       "    </tr>\n",
       "    <tr>\n",
       "      <th>108</th>\n",
       "      <td>Google</td>\n",
       "      <td>Pixel and Pixel XL</td>\n",
       "      <td>Touchscreen</td>\n",
       "      <td>Yes</td>\n",
       "      <td>2016</td>\n",
       "      <td>2.1</td>\n",
       "    </tr>\n",
       "    <tr>\n",
       "      <th>109</th>\n",
       "      <td>Palm</td>\n",
       "      <td>Centro</td>\n",
       "      <td>Keyboard bar</td>\n",
       "      <td>Yes</td>\n",
       "      <td>2007</td>\n",
       "      <td>2.0</td>\n",
       "    </tr>\n",
       "    <tr>\n",
       "      <th>110</th>\n",
       "      <td>Nokia</td>\n",
       "      <td>N97</td>\n",
       "      <td>Tilt slider</td>\n",
       "      <td>Yes</td>\n",
       "      <td>2009</td>\n",
       "      <td>2.0</td>\n",
       "    </tr>\n",
       "  </tbody>\n",
       "</table>\n",
       "</div>"
      ],
      "text/plain": [
       "    manufacturer               model          form smartphone  year  \\\n",
       "106           LG                  G2   Touchscreen        Yes  2013   \n",
       "107         LeTV         LeEco Le 1s   Touchscreen        Yes  2016   \n",
       "108       Google  Pixel and Pixel XL   Touchscreen        Yes  2016   \n",
       "109         Palm              Centro  Keyboard bar        Yes  2007   \n",
       "110        Nokia                 N97   Tilt slider        Yes  2009   \n",
       "\n",
       "     units_sold_m  \n",
       "106           3.0  \n",
       "107           3.0  \n",
       "108           2.1  \n",
       "109           2.0  \n",
       "110           2.0  "
      ]
     },
     "execution_count": 4,
     "metadata": {},
     "output_type": "execute_result"
    }
   ],
   "source": [
    "df.tail()"
   ]
  },
  {
   "cell_type": "markdown",
   "id": "e61b4cda",
   "metadata": {
    "papermill": {
     "duration": 0.014155,
     "end_time": "2023-09-08T07:10:16.581117",
     "exception": false,
     "start_time": "2023-09-08T07:10:16.566962",
     "status": "completed"
    },
    "tags": []
   },
   "source": [
    "## Printing the dimention of the data"
   ]
  },
  {
   "cell_type": "code",
   "execution_count": 5,
   "id": "4362def5",
   "metadata": {
    "execution": {
     "iopub.execute_input": "2023-09-08T07:10:16.611625Z",
     "iopub.status.busy": "2023-09-08T07:10:16.611366Z",
     "iopub.status.idle": "2023-09-08T07:10:16.614992Z",
     "shell.execute_reply": "2023-09-08T07:10:16.614510Z"
    },
    "papermill": {
     "duration": 0.021231,
     "end_time": "2023-09-08T07:10:16.616933",
     "exception": false,
     "start_time": "2023-09-08T07:10:16.595702",
     "status": "completed"
    },
    "tags": []
   },
   "outputs": [
    {
     "name": "stdout",
     "output_type": "stream",
     "text": [
      "['manufacturer', 'model', 'form', 'smartphone', 'year', 'units_sold_m']\n"
     ]
    }
   ],
   "source": [
    "columns = list(df.columns)  # To print all the columns\n",
    "print(columns)"
   ]
  },
  {
   "cell_type": "code",
   "execution_count": 6,
   "id": "b81f5d02",
   "metadata": {
    "execution": {
     "iopub.execute_input": "2023-09-08T07:10:16.646745Z",
     "iopub.status.busy": "2023-09-08T07:10:16.646513Z",
     "iopub.status.idle": "2023-09-08T07:10:16.670278Z",
     "shell.execute_reply": "2023-09-08T07:10:16.669184Z"
    },
    "papermill": {
     "duration": 0.041389,
     "end_time": "2023-09-08T07:10:16.672457",
     "exception": false,
     "start_time": "2023-09-08T07:10:16.631068",
     "status": "completed"
    },
    "tags": []
   },
   "outputs": [
    {
     "name": "stdout",
     "output_type": "stream",
     "text": [
      "<class 'pandas.core.frame.DataFrame'>\n",
      "RangeIndex: 111 entries, 0 to 110\n",
      "Data columns (total 6 columns):\n",
      " #   Column        Non-Null Count  Dtype  \n",
      "---  ------        --------------  -----  \n",
      " 0   manufacturer  111 non-null    object \n",
      " 1   model         111 non-null    object \n",
      " 2   form          111 non-null    object \n",
      " 3   smartphone    111 non-null    object \n",
      " 4   year          111 non-null    int64  \n",
      " 5   units_sold_m  111 non-null    float64\n",
      "dtypes: float64(1), int64(1), object(4)\n",
      "memory usage: 5.3+ KB\n"
     ]
    }
   ],
   "source": [
    "df.info()"
   ]
  },
  {
   "cell_type": "code",
   "execution_count": 7,
   "id": "0dc4f4ee",
   "metadata": {
    "execution": {
     "iopub.execute_input": "2023-09-08T07:10:16.704727Z",
     "iopub.status.busy": "2023-09-08T07:10:16.704442Z",
     "iopub.status.idle": "2023-09-08T07:10:16.722437Z",
     "shell.execute_reply": "2023-09-08T07:10:16.721743Z"
    },
    "papermill": {
     "duration": 0.03678,
     "end_time": "2023-09-08T07:10:16.724093",
     "exception": false,
     "start_time": "2023-09-08T07:10:16.687313",
     "status": "completed"
    },
    "tags": []
   },
   "outputs": [
    {
     "data": {
      "text/html": [
       "<div>\n",
       "<style scoped>\n",
       "    .dataframe tbody tr th:only-of-type {\n",
       "        vertical-align: middle;\n",
       "    }\n",
       "\n",
       "    .dataframe tbody tr th {\n",
       "        vertical-align: top;\n",
       "    }\n",
       "\n",
       "    .dataframe thead th {\n",
       "        text-align: right;\n",
       "    }\n",
       "</style>\n",
       "<table border=\"1\" class=\"dataframe\">\n",
       "  <thead>\n",
       "    <tr style=\"text-align: right;\">\n",
       "      <th></th>\n",
       "      <th>year</th>\n",
       "      <th>units_sold_m</th>\n",
       "    </tr>\n",
       "  </thead>\n",
       "  <tbody>\n",
       "    <tr>\n",
       "      <th>count</th>\n",
       "      <td>111.000000</td>\n",
       "      <td>111.000000</td>\n",
       "    </tr>\n",
       "    <tr>\n",
       "      <th>mean</th>\n",
       "      <td>2011.864865</td>\n",
       "      <td>50.447748</td>\n",
       "    </tr>\n",
       "    <tr>\n",
       "      <th>std</th>\n",
       "      <td>6.147411</td>\n",
       "      <td>59.167349</td>\n",
       "    </tr>\n",
       "    <tr>\n",
       "      <th>min</th>\n",
       "      <td>1996.000000</td>\n",
       "      <td>2.000000</td>\n",
       "    </tr>\n",
       "    <tr>\n",
       "      <th>25%</th>\n",
       "      <td>2007.000000</td>\n",
       "      <td>10.000000</td>\n",
       "    </tr>\n",
       "    <tr>\n",
       "      <th>50%</th>\n",
       "      <td>2012.000000</td>\n",
       "      <td>24.200000</td>\n",
       "    </tr>\n",
       "    <tr>\n",
       "      <th>75%</th>\n",
       "      <td>2018.000000</td>\n",
       "      <td>60.000000</td>\n",
       "    </tr>\n",
       "    <tr>\n",
       "      <th>max</th>\n",
       "      <td>2021.000000</td>\n",
       "      <td>250.000000</td>\n",
       "    </tr>\n",
       "  </tbody>\n",
       "</table>\n",
       "</div>"
      ],
      "text/plain": [
       "              year  units_sold_m\n",
       "count   111.000000    111.000000\n",
       "mean   2011.864865     50.447748\n",
       "std       6.147411     59.167349\n",
       "min    1996.000000      2.000000\n",
       "25%    2007.000000     10.000000\n",
       "50%    2012.000000     24.200000\n",
       "75%    2018.000000     60.000000\n",
       "max    2021.000000    250.000000"
      ]
     },
     "execution_count": 7,
     "metadata": {},
     "output_type": "execute_result"
    }
   ],
   "source": [
    "df.describe()"
   ]
  },
  {
   "cell_type": "markdown",
   "id": "807b1c0b",
   "metadata": {
    "papermill": {
     "duration": 0.015255,
     "end_time": "2023-09-08T07:10:16.754809",
     "exception": false,
     "start_time": "2023-09-08T07:10:16.739554",
     "status": "completed"
    },
    "tags": []
   },
   "source": [
    "## Get the sorted values of sold items"
   ]
  },
  {
   "cell_type": "code",
   "execution_count": 8,
   "id": "7153e450",
   "metadata": {
    "execution": {
     "iopub.execute_input": "2023-09-08T07:10:16.787315Z",
     "iopub.status.busy": "2023-09-08T07:10:16.787092Z",
     "iopub.status.idle": "2023-09-08T07:10:16.792656Z",
     "shell.execute_reply": "2023-09-08T07:10:16.791449Z"
    },
    "papermill": {
     "duration": 0.024378,
     "end_time": "2023-09-08T07:10:16.794954",
     "exception": false,
     "start_time": "2023-09-08T07:10:16.770576",
     "status": "completed"
    },
    "tags": []
   },
   "outputs": [],
   "source": [
    "df_sorted = df.sort_values('units_sold_m', ascending = False)"
   ]
  },
  {
   "cell_type": "code",
   "execution_count": 9,
   "id": "86b986a2",
   "metadata": {
    "execution": {
     "iopub.execute_input": "2023-09-08T07:10:16.828371Z",
     "iopub.status.busy": "2023-09-08T07:10:16.828140Z",
     "iopub.status.idle": "2023-09-08T07:10:16.841862Z",
     "shell.execute_reply": "2023-09-08T07:10:16.841216Z"
    },
    "papermill": {
     "duration": 0.033291,
     "end_time": "2023-09-08T07:10:16.843685",
     "exception": false,
     "start_time": "2023-09-08T07:10:16.810394",
     "status": "completed"
    },
    "tags": []
   },
   "outputs": [
    {
     "data": {
      "text/html": [
       "<div>\n",
       "<style scoped>\n",
       "    .dataframe tbody tr th:only-of-type {\n",
       "        vertical-align: middle;\n",
       "    }\n",
       "\n",
       "    .dataframe tbody tr th {\n",
       "        vertical-align: top;\n",
       "    }\n",
       "\n",
       "    .dataframe thead th {\n",
       "        text-align: right;\n",
       "    }\n",
       "</style>\n",
       "<table border=\"1\" class=\"dataframe\">\n",
       "  <thead>\n",
       "    <tr style=\"text-align: right;\">\n",
       "      <th></th>\n",
       "      <th>manufacturer</th>\n",
       "      <th>model</th>\n",
       "      <th>form</th>\n",
       "      <th>smartphone</th>\n",
       "      <th>year</th>\n",
       "      <th>units_sold_m</th>\n",
       "    </tr>\n",
       "  </thead>\n",
       "  <tbody>\n",
       "    <tr>\n",
       "      <th>0</th>\n",
       "      <td>Nokia</td>\n",
       "      <td>1100</td>\n",
       "      <td>Bar</td>\n",
       "      <td>No</td>\n",
       "      <td>2003</td>\n",
       "      <td>250.0</td>\n",
       "    </tr>\n",
       "    <tr>\n",
       "      <th>1</th>\n",
       "      <td>Nokia</td>\n",
       "      <td>1110</td>\n",
       "      <td>Bar</td>\n",
       "      <td>No</td>\n",
       "      <td>2005</td>\n",
       "      <td>247.5</td>\n",
       "    </tr>\n",
       "    <tr>\n",
       "      <th>2</th>\n",
       "      <td>Apple</td>\n",
       "      <td>iPhone 6 and iPhone 6 Plus</td>\n",
       "      <td>Touchscreen</td>\n",
       "      <td>Yes</td>\n",
       "      <td>2014</td>\n",
       "      <td>224.0</td>\n",
       "    </tr>\n",
       "    <tr>\n",
       "      <th>3</th>\n",
       "      <td>Nokia</td>\n",
       "      <td>105 (2013), 105 (2015)</td>\n",
       "      <td>Bar</td>\n",
       "      <td>No</td>\n",
       "      <td>2013</td>\n",
       "      <td>200.0</td>\n",
       "    </tr>\n",
       "    <tr>\n",
       "      <th>4</th>\n",
       "      <td>Apple</td>\n",
       "      <td>iPhone 6S and iPhone 6S Plus</td>\n",
       "      <td>Touchscreen</td>\n",
       "      <td>Yes</td>\n",
       "      <td>2015</td>\n",
       "      <td>174.1</td>\n",
       "    </tr>\n",
       "    <tr>\n",
       "      <th>...</th>\n",
       "      <td>...</td>\n",
       "      <td>...</td>\n",
       "      <td>...</td>\n",
       "      <td>...</td>\n",
       "      <td>...</td>\n",
       "      <td>...</td>\n",
       "    </tr>\n",
       "    <tr>\n",
       "      <th>106</th>\n",
       "      <td>LG</td>\n",
       "      <td>G2</td>\n",
       "      <td>Touchscreen</td>\n",
       "      <td>Yes</td>\n",
       "      <td>2013</td>\n",
       "      <td>3.0</td>\n",
       "    </tr>\n",
       "    <tr>\n",
       "      <th>107</th>\n",
       "      <td>LeTV</td>\n",
       "      <td>LeEco Le 1s</td>\n",
       "      <td>Touchscreen</td>\n",
       "      <td>Yes</td>\n",
       "      <td>2016</td>\n",
       "      <td>3.0</td>\n",
       "    </tr>\n",
       "    <tr>\n",
       "      <th>108</th>\n",
       "      <td>Google</td>\n",
       "      <td>Pixel and Pixel XL</td>\n",
       "      <td>Touchscreen</td>\n",
       "      <td>Yes</td>\n",
       "      <td>2016</td>\n",
       "      <td>2.1</td>\n",
       "    </tr>\n",
       "    <tr>\n",
       "      <th>109</th>\n",
       "      <td>Palm</td>\n",
       "      <td>Centro</td>\n",
       "      <td>Keyboard bar</td>\n",
       "      <td>Yes</td>\n",
       "      <td>2007</td>\n",
       "      <td>2.0</td>\n",
       "    </tr>\n",
       "    <tr>\n",
       "      <th>110</th>\n",
       "      <td>Nokia</td>\n",
       "      <td>N97</td>\n",
       "      <td>Tilt slider</td>\n",
       "      <td>Yes</td>\n",
       "      <td>2009</td>\n",
       "      <td>2.0</td>\n",
       "    </tr>\n",
       "  </tbody>\n",
       "</table>\n",
       "<p>111 rows × 6 columns</p>\n",
       "</div>"
      ],
      "text/plain": [
       "    manufacturer                         model          form smartphone  year  \\\n",
       "0          Nokia                          1100           Bar         No  2003   \n",
       "1          Nokia                          1110           Bar         No  2005   \n",
       "2          Apple    iPhone 6 and iPhone 6 Plus   Touchscreen        Yes  2014   \n",
       "3          Nokia        105 (2013), 105 (2015)           Bar         No  2013   \n",
       "4          Apple  iPhone 6S and iPhone 6S Plus   Touchscreen        Yes  2015   \n",
       "..           ...                           ...           ...        ...   ...   \n",
       "106           LG                            G2   Touchscreen        Yes  2013   \n",
       "107         LeTV                   LeEco Le 1s   Touchscreen        Yes  2016   \n",
       "108       Google            Pixel and Pixel XL   Touchscreen        Yes  2016   \n",
       "109         Palm                        Centro  Keyboard bar        Yes  2007   \n",
       "110        Nokia                           N97   Tilt slider        Yes  2009   \n",
       "\n",
       "     units_sold_m  \n",
       "0           250.0  \n",
       "1           247.5  \n",
       "2           224.0  \n",
       "3           200.0  \n",
       "4           174.1  \n",
       "..            ...  \n",
       "106           3.0  \n",
       "107           3.0  \n",
       "108           2.1  \n",
       "109           2.0  \n",
       "110           2.0  \n",
       "\n",
       "[111 rows x 6 columns]"
      ]
     },
     "execution_count": 9,
     "metadata": {},
     "output_type": "execute_result"
    }
   ],
   "source": [
    "df_sorted"
   ]
  },
  {
   "cell_type": "markdown",
   "id": "3bcabb91",
   "metadata": {
    "papermill": {
     "duration": 0.015963,
     "end_time": "2023-09-08T07:10:16.875780",
     "exception": false,
     "start_time": "2023-09-08T07:10:16.859817",
     "status": "completed"
    },
    "tags": []
   },
   "source": [
    "# 2. Lets do the Data Analysis"
   ]
  },
  {
   "cell_type": "code",
   "execution_count": 10,
   "id": "2f0f5c0f",
   "metadata": {
    "execution": {
     "iopub.execute_input": "2023-09-08T07:10:16.909984Z",
     "iopub.status.busy": "2023-09-08T07:10:16.909770Z",
     "iopub.status.idle": "2023-09-08T07:10:16.913286Z",
     "shell.execute_reply": "2023-09-08T07:10:16.912366Z"
    },
    "papermill": {
     "duration": 0.022696,
     "end_time": "2023-09-08T07:10:16.914892",
     "exception": false,
     "start_time": "2023-09-08T07:10:16.892196",
     "status": "completed"
    },
    "tags": []
   },
   "outputs": [],
   "source": [
    "top_selling_brand = df.groupby('manufacturer')"
   ]
  }
 ],
 "kernelspec": {
  "display_name": "Python 3",
  "language": "python",
  "name": "python3"
 },
 "language_info": {
  "codemirror_mode": {
   "name": "ipython",
   "version": 3
  },
  "file_extension": ".py",
  "mimetype": "text/x-python",
  "name": "python",
  "nbconvert_exporter": "python",
  "pygments_lexer": "ipython3",
  "version": "3.6.4"
 },
 "metadata": {
  "kernelspec": {
   "display_name": "Python 3",
   "language": "python",
   "name": "python3"
  },
  "language_info": {
   "codemirror_mode": {
    "name": "ipython",
    "version": 3
   },
   "file_extension": ".py",
   "mimetype": "text/x-python",
   "name": "python",
   "nbconvert_exporter": "python",
   "pygments_lexer": "ipython3",
   "version": "3.7.12"
  },
  "papermill": {
   "default_parameters": {},
   "duration": 11.053303,
   "end_time": "2023-09-08T07:10:17.652020",
   "environment_variables": {},
   "exception": null,
   "input_path": "__notebook__.ipynb",
   "output_path": "__notebook__.ipynb",
   "parameters": {},
   "start_time": "2023-09-08T07:10:06.598717",
   "version": "2.3.4"
  }
 },
 "nbformat": 4,
 "nbformat_minor": 5
}
